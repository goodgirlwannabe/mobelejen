{
 "cells": [
  {
   "cell_type": "code",
   "execution_count": 46,
   "metadata": {},
   "outputs": [],
   "source": [
    "import numpy as np\n",
    "import json as js"
   ]
  },
  {
   "cell_type": "code",
   "execution_count": 47,
   "metadata": {},
   "outputs": [],
   "source": [
    "activation = [\n",
    "  'linear',\n",
    "  'relu',\n",
    "  'sigmoid',\n",
    "  'softmax'\n",
    "]"
   ]
  },
  {
   "cell_type": "code",
   "execution_count": 48,
   "metadata": {},
   "outputs": [],
   "source": [
    "class Layer:\n",
    "  def __init__(self, neuron_num: int, act_function: str, weights: np.array, bias: np.array):\n",
    "    self.neuron_num = neuron_num\n",
    "    self.weights = weights\n",
    "    self.bias = bias\n",
    "\n",
    "    case = {\n",
    "        'linear': lambda x: x,\n",
    "        'relu': lambda x: np.maximum(0, x),\n",
    "        'sigmoid': lambda x: 1 / (1 + np.exp(-x)),\n",
    "        'softmax': lambda x: np.exp(x) / np.sum(np.exp(x))\n",
    "      }\n",
    "    self.act_function = case[act_function]\n",
    "\n",
    "  def value(self, inputData: np.array):\n",
    "    self.output = self.act_function(np.dot(inputData, self.weights) + self.bias)\n",
    "    return self.output\n"
   ]
  },
  {
   "cell_type": "code",
   "execution_count": 49,
   "metadata": {},
   "outputs": [],
   "source": [
    "class FFNN:\n",
    "  def __init__ (self, inputData: np.array, layers: list):\n",
    "    self.inputData = inputData\n",
    "    self.layers = layers\n",
    "    self.output = []\n",
    "  \n",
    "  def new_layer(self, layer: Layer):\n",
    "    self.layers.append(layer)\n",
    "\n",
    "  def forward(self):\n",
    "    self.output = self.inputData\n",
    "    for layer in self.layers:\n",
    "      self.output = layer.value(self.output)\n",
    "    return self.output\n",
    "  \n",
    "  def predictions(self):\n",
    "    if(len(self.output.shape) == 1):\n",
    "      self.output = [1 if x > 0.5 else 0 for x in self.output]\n",
    "    else :\n",
    "      self.output = [[1 if x > 0.5 else 0 for x in y] for y in self.output]\n"
   ]
  },
  {
   "cell_type": "code",
   "execution_count": 50,
   "metadata": {},
   "outputs": [
    {
     "name": "stdout",
     "output_type": "stream",
     "text": [
      "[[-11.]\n",
      " [ -8.]\n",
      " [ -5.]\n",
      " [ -2.]\n",
      " [  1.]\n",
      " [  4.]\n",
      " [  7.]\n",
      " [ 10.]\n",
      " [ 13.]\n",
      " [ 16.]]\n"
     ]
    }
   ],
   "source": [
    "\n",
    "# read json using model\n",
    "json_file = \"linear.json\"\n",
    "with open (json_file, \"r\") as file:\n",
    "    data = js.load(file)\n",
    "\n",
    "\n",
    "layers = data[\"case\"][\"model\"]\n",
    "weights = data[\"case\"][\"weights\"]\n",
    "input = data[\"case\"][\"input\"]\n",
    "\n",
    "\n",
    "ffnn = FFNN(np.array(input), [])\n",
    "for i in range (len(layers[\"layers\"])):\n",
    "  layer = layers[\"layers\"][i]\n",
    "  weight = weights[i]\n",
    "  new_layer = Layer(layer[\"number_of_neurons\"], layer[\"activation_function\"], np.array(weight[1:]), np.array(weight[0]))\n",
    "  ffnn.new_layer(new_layer)\n",
    "\n",
    "ffnn.forward()\n",
    "\n",
    "\n",
    "print(ffnn.output)\n",
    "\n"
   ]
  }
 ],
 "metadata": {
  "kernelspec": {
   "display_name": "Python 3",
   "language": "python",
   "name": "python3"
  },
  "language_info": {
   "codemirror_mode": {
    "name": "ipython",
    "version": 3
   },
   "file_extension": ".py",
   "mimetype": "text/x-python",
   "name": "python",
   "nbconvert_exporter": "python",
   "pygments_lexer": "ipython3",
   "version": "3.11.2"
  }
 },
 "nbformat": 4,
 "nbformat_minor": 2
}
