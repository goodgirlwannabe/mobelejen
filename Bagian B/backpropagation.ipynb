{
 "cells": [
  {
   "cell_type": "markdown",
   "metadata": {},
   "source": [
    "# Backpropagation"
   ]
  },
  {
   "cell_type": "code",
   "execution_count": null,
   "metadata": {},
   "outputs": [],
   "source": [
    "import numpy as np\n",
    "import time\n",
    "\n",
    "class backpropagation:\n",
    "    def __init__(self, input_size, hidden_size, output_size, learning_rate):\n",
    "        self.input_size = input_size\n",
    "        self.hidden_size = hidden_size\n",
    "        self.output_size = output_size\n",
    "        self.learning_rate = learning_rate\n",
    "\n",
    "        self.W1 = np.random.randn(self.input_size, self.hidden_size)\n",
    "        self.b1 = np.zeros((1, self.hidden_size))\n",
    "        self.W2 = np.random.randn(self.hidden_size, self.output_size)\n",
    "        self.b2 = np.zeros((1, self.output_size))\n",
    "\n",
    "    def sigmoid(self, x):\n",
    "        return 1 / (1 + np.exp(-x))\n",
    "\n",
    "    def sigmoid_derivative(self, x):\n",
    "        return x * (1 - x)\n",
    "\n",
    "    def forward(self, x):\n",
    "        self.z1 = np.dot(x, self.W1) + self.b1\n",
    "        self.a1 = self.sigmoid(self.z1)\n",
    "        self.z2 = np.dot(self.a1, self.W2) + self.b2\n",
    "        self.a2 = self.sigmoid(self.z2)\n",
    "        return self.a2\n",
    "\n",
    "    def backward(self, x, y):\n",
    "        self.loss = 0.5 * np.power((y - self.a2), 2)\n",
    "        self.a2_delta = (y - self.a2) * self.sigmoid_derivative(self.a2)\n",
    "        self.a1_delta = self.a2_delta.dot(self.W2.T) * self.sigmoid_derivative(self.a1)\n",
    "\n",
    "        self.W1 += x.T.dot(self.a1_delta) * self.learning_rate\n",
    "        self.b1 += np.sum(self.a1_delta, axis=0, keepdims=True) * self.learning_rate\n",
    "        self.W2 += self.a1.T.dot(self.a2_delta) * self.learning_rate\n",
    "        self.b2 += np.sum(self.a2_delta, axis=0, keepdims=True) * self.learning_rate\n",
    "\n",
    "    def train(self, x, y):\n",
    "        self.forward(x)\n",
    "        self.backward(x, y)\n",
    "\n",
    "    def predict(self, x):\n",
    "        return self.forward(x)"
   ]
  }
 ],
 "metadata": {
  "language_info": {
   "name": "python"
  }
 },
 "nbformat": 4,
 "nbformat_minor": 2
}
